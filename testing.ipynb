{
 "cells": [
  {
   "cell_type": "code",
   "execution_count": null,
   "metadata": {},
   "outputs": [],
   "source": [
    "import numpy as np\n",
    "from src.simulation import construct_optimal_solution as sim\n",
    "from src.plotting import plot\n",
    "from src.query_point_algorithms import uniform_random, trim_extremities, grid_search"
   ]
  },
  {
   "cell_type": "markdown",
   "metadata": {},
   "source": [
    "# Simulate a data set"
   ]
  },
  {
   "cell_type": "code",
   "execution_count": null,
   "metadata": {},
   "outputs": [],
   "source": [
    "np.random.seed(1)\n",
    "\n",
    "k_nearest_neighbours = 3\n",
    "\n",
    "query_points, data_points = sim.simulation(min_query_points = 3, \n",
    "                                       max_query_points = 20, \n",
    "                                       points_per_query_point = k_nearest_neighbours, \n",
    "                                       approx_x_bounds= [0, 10], \n",
    "                                       approx_y_bounds=[0, 10], \n",
    "                                       max_normal_sd = 1,\n",
    "                                       verbose = False)\n",
    "\n",
    "plot(query_points[['x', 'y']].to_numpy(), \n",
    "     data_points[['x', 'y']].to_numpy(),\n",
    "     k_nearest_neighbours )\n",
    "print(f'Solution exists with {len(query_points)} query points')"
   ]
  },
  {
   "attachments": {},
   "cell_type": "markdown",
   "metadata": {},
   "source": [
    "# Uniform random algorithm"
   ]
  },
  {
   "cell_type": "code",
   "execution_count": null,
   "metadata": {},
   "outputs": [],
   "source": [
    "ur_query_points = uniform_random.get_query_points(data_points[['x', 'y']], k_nearest_neighbours)\n",
    "print(f'Uniform point selection resulted in {len(ur_query_points)} query points')\n",
    "\n",
    "plot(ur_query_points, \n",
    "     data_points[['x', 'y']].to_numpy(),\n",
    "     k_nearest_neighbours )"
   ]
  },
  {
   "cell_type": "markdown",
   "metadata": {},
   "source": [
    "# Trim extremities alrogithm\n"
   ]
  },
  {
   "cell_type": "code",
   "execution_count": null,
   "metadata": {},
   "outputs": [],
   "source": [
    "tr_query_points = trim_extremities.get_query_points(data_points[['x', 'y']], k_nearest_neighbours)\n",
    "\n",
    "print(f'Trim extremities algorithm resulted in {len(tr_query_points)} query points')\n",
    "\n",
    "plot(tr_query_points, \n",
    "     data_points[['x', 'y']].to_numpy(),\n",
    "     k_nearest_neighbours )"
   ]
  },
  {
   "attachments": {},
   "cell_type": "markdown",
   "metadata": {},
   "source": [
    "# Grid search algorithm\n"
   ]
  },
  {
   "cell_type": "code",
   "execution_count": null,
   "metadata": {},
   "outputs": [],
   "source": [
    "from importlib import reload\n",
    "reload(grid_search)\n",
    "\n",
    "grid_search.get_query_points(data_points = data_points[['x', 'y']], \n",
    "                             k_nearest_neighbours = k_nearest_neighbours, \n",
    "                             x_bounds = [data_points['x'].min(), data_points['x'].max()], \n",
    "                             y_bounds = [data_points['y'].min(), data_points['y'].max()], \n",
    "                             size_of_grid_search = 100)"
   ]
  },
  {
   "cell_type": "code",
   "execution_count": null,
   "metadata": {},
   "outputs": [],
   "source": []
  }
 ],
 "metadata": {
  "kernelspec": {
   "display_name": "nn_for_knn_placement",
   "language": "python",
   "name": "python3"
  },
  "language_info": {
   "codemirror_mode": {
    "name": "ipython",
    "version": 3
   },
   "file_extension": ".py",
   "mimetype": "text/x-python",
   "name": "python",
   "nbconvert_exporter": "python",
   "pygments_lexer": "ipython3",
   "version": "3.10.9"
  },
  "vscode": {
   "interpreter": {
    "hash": "1613ad64a9e60309da29a3b7da59985fb363a47baa5567e893ee61642b327cca"
   }
  }
 },
 "nbformat": 4,
 "nbformat_minor": 2
}
