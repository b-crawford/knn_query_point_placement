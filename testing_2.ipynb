{
 "cells": [
  {
   "cell_type": "code",
   "execution_count": null,
   "metadata": {},
   "outputs": [],
   "source": [
    "import numpy as np\n",
    "from src.simulation.construct_optimal_solution import *\n",
    "import scipy.spatial as scsp\n",
    "import pandas as pd"
   ]
  },
  {
   "cell_type": "code",
   "execution_count": null,
   "metadata": {},
   "outputs": [],
   "source": [
    "query_points = generate_query_points(\n",
    "    min_query_points=3,\n",
    "    max_query_points=6,\n",
    "    approx_x_bounds=[0, 10],\n",
    "    approx_y_bounds=[0, 10],\n",
    ")\n",
    "\n",
    "distances_query_points = distances_between_query_points(query_points)\n",
    "\n",
    "query_point_uuid = query_points[\"query_point_uuid\"].iloc[0]"
   ]
  },
  {
   "cell_type": "code",
   "execution_count": null,
   "metadata": {},
   "outputs": [],
   "source": [
    "distances_query_points"
   ]
  },
  {
   "cell_type": "code",
   "execution_count": null,
   "metadata": {},
   "outputs": [],
   "source": [
    "# Calculate the maximum distance between query point of interest and all\n",
    "# other query points\n",
    "max_distance = distances_query_points.loc[\n",
    "    distances_query_points.source == query_point_uuid\n",
    "].distance.max()\n",
    "max_distance_to_sample = max_distance / 2"
   ]
  },
  {
   "cell_type": "code",
   "execution_count": null,
   "metadata": {},
   "outputs": [],
   "source": [
    "# sample a distance\n",
    "distance = np.random.uniform(0, max_distance_to_sample, 1)[0]\n",
    "\n",
    "# Choose a direction in which to sample\n",
    "direction_vec = np.random.uniform([-1, 1], 2)\n",
    "direction_vec_norm = direction_vec / np.linalg.norm(direction_vec)\n",
    "\n",
    "# now we have a new point\n",
    "query_point = query_points.loc[\n",
    "    query_points[\"query_point_uuid\"] == query_point_uuid\n",
    "].values\n",
    "new_point = query_point + direction_vec_norm * distance\n",
    "\n",
    "# reject the point if it is closer to any other query point\n",
    "distances_from_current_point = distances_to_query_points(\n",
    "    new_point[0], new_point[1], query_points\n",
    ")\n",
    "distances_to_other_query_points = distances_from_current_point.loc[\n",
    "    distances_from_current_point.query_point_uuid != query_point_uuid\n",
    "]\n",
    "\n",
    "if (\n",
    "    len(\n",
    "        distances_to_other_query_points.loc[\n",
    "            distances_to_other_query_points.distance <= distance\n",
    "        ]\n",
    "    )\n",
    "    > 0\n",
    "):\n",
    "    return sample_new_data_point(\n",
    "        query_points,\n",
    "        distances_between_query_points,\n",
    "        query_point_uuid,\n",
    "        verbose,\n",
    "        reccursion_count + 1,\n",
    "    )\n",
    "else:\n",
    "    return new_point"
   ]
  },
  {
   "cell_type": "code",
   "execution_count": null,
   "metadata": {},
   "outputs": [],
   "source": [
    "distance_df.reset_index()"
   ]
  },
  {
   "cell_type": "code",
   "execution_count": null,
   "metadata": {},
   "outputs": [],
   "source": []
  }
 ],
 "metadata": {
  "kernelspec": {
   "display_name": "knn_query_point_placement",
   "language": "python",
   "name": "python3"
  },
  "language_info": {
   "codemirror_mode": {
    "name": "ipython",
    "version": 3
   },
   "file_extension": ".py",
   "mimetype": "text/x-python",
   "name": "python",
   "nbconvert_exporter": "python",
   "pygments_lexer": "ipython3",
   "version": "3.10.9"
  },
  "vscode": {
   "interpreter": {
    "hash": "f4aacf3a0034e42f61a2db3cd77609af22c59d69edf4ecc6796a4e21482f8ce1"
   }
  }
 },
 "nbformat": 4,
 "nbformat_minor": 2
}
