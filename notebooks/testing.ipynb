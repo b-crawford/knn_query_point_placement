{
 "cells": [
  {
   "cell_type": "code",
   "execution_count": null,
   "metadata": {},
   "outputs": [],
   "source": [
    "import numpy as np\n",
    "import sys\n",
    "\n",
    "sys.path.append(\"../\")\n",
    "from knn_query_point_placement.knn_plotting import plot\n",
    "from knn_query_point_placement.knn_simulation import construct_optimal_solution as sim\n",
    "from knn_query_point_placement.query_point_algorithms import (\n",
    "    uniform_random,\n",
    "    trim_extremities,\n",
    ")"
   ]
  },
  {
   "cell_type": "markdown",
   "metadata": {},
   "source": [
    "# Simulate a data set"
   ]
  },
  {
   "cell_type": "code",
   "execution_count": null,
   "metadata": {},
   "outputs": [],
   "source": [
    "np.random.seed(1)\n",
    "\n",
    "k_nearest_neighbours = 5\n",
    "x_bounds = [0, 10]\n",
    "y_bounds = [0, 10]\n",
    "\n",
    "\n",
    "query_points, data_points = sim.simulation(\n",
    "    min_query_points=15,\n",
    "    max_query_points=15,\n",
    "    points_per_query_point=k_nearest_neighbours,\n",
    "    approx_x_bounds=x_bounds,\n",
    "    approx_y_bounds=y_bounds,\n",
    ")\n",
    "\n",
    "plot(\n",
    "    data_points[[\"x\", \"y\"]].to_numpy(),\n",
    ")\n",
    "\n",
    "plot(\n",
    "    data_points[[\"x\", \"y\"]].to_numpy(),\n",
    "    query_points[[\"x\", \"y\"]].to_numpy(),\n",
    "    k_nearest_neighbours,\n",
    ")\n",
    "print(f\"Solution exists with {len(query_points)} query points\")"
   ]
  },
  {
   "attachments": {},
   "cell_type": "markdown",
   "metadata": {},
   "source": [
    "# Uniform random algorithm"
   ]
  },
  {
   "cell_type": "code",
   "execution_count": null,
   "metadata": {},
   "outputs": [],
   "source": [
    "ur_query_points = uniform_random.get_query_points(\n",
    "    data_points[[\"x\", \"y\"]], k_nearest_neighbours\n",
    ")\n",
    "print(f\"Uniform point selection resulted in {len(ur_query_points)} query points\")\n",
    "\n",
    "plot(data_points[[\"x\", \"y\"]].to_numpy(), ur_query_points, k_nearest_neighbours)"
   ]
  },
  {
   "cell_type": "markdown",
   "metadata": {},
   "source": [
    "# Trim extremities alrogithm\n"
   ]
  },
  {
   "cell_type": "code",
   "execution_count": null,
   "metadata": {},
   "outputs": [],
   "source": [
    "tr_query_points = trim_extremities.get_query_points(\n",
    "    data_points[[\"x\", \"y\"]], k_nearest_neighbours\n",
    ")\n",
    "\n",
    "print(f\"Trim extremities algorithm resulted in {len(tr_query_points)} query points\")\n",
    "\n",
    "plot(data_points[[\"x\", \"y\"]].to_numpy(), tr_query_points, k_nearest_neighbours)"
   ]
  }
 ],
 "metadata": {
  "kernelspec": {
   "display_name": "knn_query_point_placement",
   "language": "python",
   "name": "python3"
  },
  "language_info": {
   "codemirror_mode": {
    "name": "ipython",
    "version": 3
   },
   "file_extension": ".py",
   "mimetype": "text/x-python",
   "name": "python",
   "nbconvert_exporter": "python",
   "pygments_lexer": "ipython3",
   "version": "3.11.0"
  },
  "vscode": {
   "interpreter": {
    "hash": "f4aacf3a0034e42f61a2db3cd77609af22c59d69edf4ecc6796a4e21482f8ce1"
   }
  }
 },
 "nbformat": 4,
 "nbformat_minor": 2
}
