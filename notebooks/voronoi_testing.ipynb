{
 "cells": [
  {
   "cell_type": "code",
   "execution_count": null,
   "metadata": {},
   "outputs": [],
   "source": [
    "import numpy as np\n",
    "import sys\n",
    "import pandas as pd\n",
    "import uuid\n",
    "import scipy.spatial as sp\n",
    "from functools import cache\n",
    "\n",
    "sys.path.append(\"..\")\n",
    "\n",
    "from knn_query_point_placement.knn_simulation import random_points as rp\n",
    "from knn_query_point_placement import knn_plotting as kp\n",
    "from knn_query_point_placement.query_point_algorithms import (\n",
    "    nth_degree_voronoi as voronoi,\n",
    ")"
   ]
  },
  {
   "cell_type": "code",
   "execution_count": null,
   "metadata": {},
   "outputs": [],
   "source": [
    "np.random.seed(0)\n",
    "\n",
    "n_data_points = 6\n",
    "k_nearest_neighbours = 3\n",
    "x_bounds = [0, 1]\n",
    "y_bounds = [0, 1]\n",
    "\n",
    "data_points = rp.uniform_random_points(n_data_points, x_bounds, y_bounds)\n",
    "kp.plot(data_points)"
   ]
  },
  {
   "cell_type": "code",
   "execution_count": null,
   "metadata": {},
   "outputs": [],
   "source": [
    "# get voronoi regions\n",
    "data_points_uuid = pd.DataFrame(\n",
    "    data_points,\n",
    "    columns=[\"x\", \"y\"],\n",
    "    index=[uuid.uuid4() for i in range(len(data_points))],\n",
    ")\n",
    "vor = voronoi.VoronoiCells(data_points_uuid, nth_order=3)\n",
    "\n",
    "vor.plot(0, x_bounds, y_bounds)"
   ]
  }
 ],
 "metadata": {
  "kernelspec": {
   "display_name": "test_vs_code",
   "language": "python",
   "name": "python3"
  },
  "language_info": {
   "codemirror_mode": {
    "name": "ipython",
    "version": 3
   },
   "file_extension": ".py",
   "mimetype": "text/x-python",
   "name": "python",
   "nbconvert_exporter": "python",
   "pygments_lexer": "ipython3",
   "version": "3.11.1"
  }
 },
 "nbformat": 4,
 "nbformat_minor": 2
}
