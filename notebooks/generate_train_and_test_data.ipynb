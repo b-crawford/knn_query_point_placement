{
 "cells": [
  {
   "cell_type": "code",
   "execution_count": null,
   "metadata": {},
   "outputs": [],
   "source": [
    "import sys\n",
    "import numpy as np\n",
    "import os\n",
    "\n",
    "sys.path.append(\"../\")\n",
    "from knn_query_point_placement.knn_simulation import construct_optimal_solution as sim"
   ]
  },
  {
   "attachments": {},
   "cell_type": "markdown",
   "metadata": {},
   "source": [
    "Generate data and save"
   ]
  },
  {
   "cell_type": "code",
   "execution_count": null,
   "metadata": {},
   "outputs": [],
   "source": [
    "n_sims = 100\n",
    "k_nearest_neighbours = 5\n",
    "x_bounds = [0, 10]\n",
    "y_bounds = [0, 10]\n",
    "min_query_points = 15\n",
    "max_query_points = 30\n",
    "\n",
    "np.random.seed(1)\n",
    "\n",
    "\n",
    "for i in range(n_sims):\n",
    "    os.makedirs(\"../data/simulations/sim_{}\".format(i), exist_ok=True)\n",
    "\n",
    "    query_points, data_points = sim.simulation(\n",
    "        min_query_points=min_query_points,\n",
    "        max_query_points=max_query_points,\n",
    "        points_per_query_point=k_nearest_neighbours,\n",
    "        approx_x_bounds=x_bounds,\n",
    "        approx_y_bounds=y_bounds,\n",
    "    )\n",
    "\n",
    "    query_points.to_csv(\n",
    "        \"../data/simulations/sim_{}/query_points.csv\".format(i), index=False\n",
    "    )\n",
    "    data_points.to_csv(\n",
    "        \"../data/simulations/sim_{}/data_points.csv\".format(i), index=False\n",
    "    )"
   ]
  }
 ],
 "metadata": {
  "kernelspec": {
   "display_name": "test_3",
   "language": "python",
   "name": "python3"
  },
  "language_info": {
   "codemirror_mode": {
    "name": "ipython",
    "version": 3
   },
   "file_extension": ".py",
   "mimetype": "text/x-python",
   "name": "python",
   "nbconvert_exporter": "python",
   "pygments_lexer": "ipython3",
   "version": "3.11.0"
  }
 },
 "nbformat": 4,
 "nbformat_minor": 2
}
